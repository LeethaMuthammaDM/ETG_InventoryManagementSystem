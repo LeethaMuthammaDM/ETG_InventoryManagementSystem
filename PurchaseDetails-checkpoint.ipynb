{
 "cells": [
  {
   "cell_type": "code",
   "execution_count": 1,
   "id": "10d123da",
   "metadata": {},
   "outputs": [],
   "source": [
    "import json\n",
    "fd=open(\"Inventory.json\",'r')\n",
    "txt=fd.read()\n",
    "fd.close()\n",
    "Inventory=json.loads(txt)"
   ]
  },
  {
   "cell_type": "markdown",
   "id": "c530d09b",
   "metadata": {},
   "source": [
    "# ManualEntry of productid (Optional code)"
   ]
  },
  {
   "cell_type": "code",
   "execution_count": 2,
   "id": "aa512bdb",
   "metadata": {},
   "outputs": [
    {
     "name": "stdout",
     "output_type": "stream",
     "text": [
      "Enter the productid:\n",
      "enter valid productid\n"
     ]
    }
   ],
   "source": [
    "u_productid=input(\"Enter the productid:\")       #here we take input from user.\n",
    "   #we can use this code before for loop in previous code\n",
    "if(u_productid!=Inventory.keys()):\n",
    "    print(\"enter valid productid\")\n"
   ]
  },
  {
   "cell_type": "markdown",
   "id": "2787276a",
   "metadata": {},
   "source": [
    "# Purchase"
   ]
  },
  {
   "cell_type": "code",
   "execution_count": 28,
   "id": "442fc562",
   "metadata": {},
   "outputs": [
    {
     "name": "stdout",
     "output_type": "stream",
     "text": [
      "Enter the productid:2021004\n",
      "Enter the quantity:5\n",
      "Enter the name of the customer:Riya\n",
      "     GROCERY SUPER MARKET     \n",
      "--------------------------------------\n",
      "_______________________________________\n",
      "Customer Name:Riya\n",
      "Purchase Details:\n",
      "Product  name : DarkFantasy\n",
      "Quantity:5\n",
      "Price:30\n",
      "________________________________________\n",
      "Total Bill    :  ₹150\n",
      "OFFER APPLIED: - ₹6.0\n",
      "_____________________________________\n",
      "Total AmountPayable:  ₹144.0\n",
      "_________________________________________\n",
      "----------------------------------------\n",
      "TimeOfPurchase: Sun Sep  5 18:01:26 2021\n"
     ]
    }
   ],
   "source": [
    "u_productid=input(\"Enter the productid:\")#here we take input from user.\n",
    "\n",
    "u_quantity=int(input(\"Enter the quantity:\"))\n",
    "\n",
    "flag=0 \n",
    "def calculateOffer(off):\n",
    "    amount=Inventory[u_productid]['Price']\n",
    "    return u_quantity*((off/100)*amount)\n",
    "    \n",
    "for x,y in Inventory[u_productid].items():    \n",
    "    if(Inventory[u_productid]['Quantity']>=u_quantity):\n",
    "        \n",
    "        customer=input(\"Enter the name of the customer:\")\n",
    "        print(\"     GROCERY SUPER MARKET     \")\n",
    "        print(\"--------------------------------------\")\n",
    "        print(\"_______________________________________\")\n",
    "        print(\"Customer Name:\"+customer)\n",
    "        print(\"Purchase Details:\")\n",
    "        print('Product ',x,':',y)\n",
    "                                #for key,value in Inventory[u_productid].items():\n",
    "                                        #print('Product ',x,':',y)\n",
    "        print('Quantity:'+str(u_quantity))\n",
    "        print('Price:'+str(Inventory[u_productid]['Price']))\n",
    "        print(\"________________________________________\")\n",
    "        total=Inventory[u_productid]['Price']*u_quantity\n",
    "        print(\"Total Bill    : \"+ u\" \\u20B9\"+str(total))\n",
    "        Offers= Inventory[u_productid]['Offers']\n",
    "        if(Offers!=0):\n",
    "            off=calculateOffer(Offers)\n",
    "            print(\"OFFER APPLIED: -\"+u\" \\u20B9\"+str(off))\n",
    "            print(\"_____________________________________\")\n",
    "            print(\"Total AmountPayable: \"+u\" \\u20B9\"+str(total-off))\n",
    "            total= total-off                              #Incase offer is applied then sales total will use this variable\n",
    "        else:\n",
    "            print(\"No offer applicable on this product\")\n",
    "        print(\"_________________________________________\")\n",
    "        print(\"----------------------------------------\")\n",
    "        \n",
    "        import time\n",
    "        print(\"TimeOfPurchase: \"+time.ctime())\n",
    "        #update the quantity in inventory\n",
    "        Inventory[u_productid]['Quantity']-=u_quantity\n",
    "        flag=flag+1                                     #if sales has not taken place due to shortageofitem then this will be 0\n",
    "        break \n",
    "    elif(Inventory[u_productid]['Quantity']==0):\n",
    "        print(\"This product is out of stock\")\n",
    "        break\n",
    "    else:\n",
    "        print(\"Sorry!The quantity of product availabe is :\"+str(Inventory[u_productid]['Quantity']))\n",
    "        break\n",
    "        \n",
    "\n",
    "import json\n",
    "js = json.dumps(Inventory)\n",
    "fd= open(\"Inventory.json\",'w')                     \n",
    "fd.write(js)\n",
    "fd.close()\n",
    "    "
   ]
  },
  {
   "cell_type": "code",
   "execution_count": 29,
   "id": "e4576dd7",
   "metadata": {},
   "outputs": [
    {
     "data": {
      "text/plain": [
       "45"
      ]
     },
     "execution_count": 29,
     "metadata": {},
     "output_type": "execute_result"
    }
   ],
   "source": [
    "Inventory[u_productid]['Quantity']   #Initially we had updated and quantity was 200,now after purchase again its updated\n",
    "#now quantity is quantity-(user entered)"
   ]
  },
  {
   "cell_type": "markdown",
   "id": "47e5b62c",
   "metadata": {},
   "source": [
    "# Update Inventory after purchase (this code  already written in purchasecode)"
   ]
  },
  {
   "cell_type": "code",
   "execution_count": 30,
   "id": "4bb3a551",
   "metadata": {},
   "outputs": [],
   "source": [
    "import json\n",
    "js = json.dumps(Inventory)\n",
    "fd= open(\"Inventory.json\",'w')                     #This code can be written in the previous code at the bottom\n",
    "fd.write(js)\n",
    "fd.close()\n"
   ]
  },
  {
   "cell_type": "code",
   "execution_count": 31,
   "id": "61601c56",
   "metadata": {},
   "outputs": [
    {
     "data": {
      "text/plain": [
       "1"
      ]
     },
     "execution_count": 31,
     "metadata": {},
     "output_type": "execute_result"
    }
   ],
   "source": [
    "flag        #this variable is 0 if no sales and 1 if sales took place"
   ]
  },
  {
   "cell_type": "markdown",
   "id": "6c94edec",
   "metadata": {},
   "source": [
    "# Sales json"
   ]
  },
  {
   "cell_type": "code",
   "execution_count": 32,
   "id": "8ee22966",
   "metadata": {},
   "outputs": [],
   "source": [
    "if(flag>0):     #here this sales gets updated only if flag>0\n",
    "    sales[len(sales)+1]={'Product':u_productid ,'ProductName':Inventory[u_productid]['name'],'Quant':u_quantity,'amount':total,'CustomerName':customer,\n",
    "     'Offer':Offers}\n",
    "    # Updating salesdetails\n",
    "sale=json.dumps(sales)\n",
    "fd= open('sales.json','w')\n",
    "r=fd.write(sale)\n",
    "fd.close()"
   ]
  },
  {
   "cell_type": "code",
   "execution_count": 33,
   "id": "008d710f",
   "metadata": {},
   "outputs": [
    {
     "data": {
      "text/plain": [
       "{1: {'Product': '2021002',\n",
       "  'ProductName': 'Temptations',\n",
       "  'Quant': 2,\n",
       "  'amount': 180.0,\n",
       "  'CustomerName': 'Arjun',\n",
       "  'Offer': 10},\n",
       " 2: {'Product': '2021001',\n",
       "  'ProductName': 'DairyMilk',\n",
       "  'Quant': 2,\n",
       "  'amount': 120,\n",
       "  'CustomerName': 'Thanmay',\n",
       "  'Offer': 0},\n",
       " 3: {'Product': '2021004',\n",
       "  'ProductName': 'DarkFantasy',\n",
       "  'Quant': 5,\n",
       "  'amount': 144.0,\n",
       "  'CustomerName': 'Riya',\n",
       "  'Offer': 4}}"
      ]
     },
     "execution_count": 33,
     "metadata": {},
     "output_type": "execute_result"
    }
   ],
   "source": [
    "sales"
   ]
  },
  {
   "cell_type": "markdown",
   "id": "c0803872",
   "metadata": {},
   "source": [
    "# Updating SalesDetails(This code is already written above)"
   ]
  },
  {
   "cell_type": "code",
   "execution_count": 34,
   "id": "ae0365d7",
   "metadata": {},
   "outputs": [],
   "source": [
    "     # Updating salesdetails\n",
    "sale=json.dumps(sales)\n",
    "fd= open('sales.json','w')\n",
    "r=fd.write(sale)\n",
    "fd.close()"
   ]
  },
  {
   "cell_type": "code",
   "execution_count": null,
   "id": "c3e2b05c",
   "metadata": {},
   "outputs": [],
   "source": []
  }
 ],
 "metadata": {
  "kernelspec": {
   "display_name": "Python 3",
   "language": "python",
   "name": "python3"
  },
  "language_info": {
   "codemirror_mode": {
    "name": "ipython",
    "version": 3
   },
   "file_extension": ".py",
   "mimetype": "text/x-python",
   "name": "python",
   "nbconvert_exporter": "python",
   "pygments_lexer": "ipython3",
   "version": "3.8.8"
  }
 },
 "nbformat": 4,
 "nbformat_minor": 5
}
